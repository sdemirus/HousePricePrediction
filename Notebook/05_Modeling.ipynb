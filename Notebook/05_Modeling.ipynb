{
 "cells": [
  {
   "cell_type": "code",
   "execution_count": 1,
   "id": "3676b371",
   "metadata": {},
   "outputs": [],
   "source": [
    "import pandas as pd\n",
    "import numpy as np\n",
    "import matplotlib.pyplot as plt\n",
    "from sklearn.model_selection import train_test_split, GridSearchCV, cross_val_score\n",
    "from sklearn.preprocessing import StandardScaler\n",
    "from sklearn.linear_model import LinearRegression\n",
    "from sklearn.tree import DecisionTreeRegressor\n",
    "from sklearn.ensemble import RandomForestRegressor, GradientBoostingRegressor\n",
    "from sklearn.neighbors import KNeighborsRegressor\n",
    "from sklearn.svm import SVR\n",
    "from xgboost import XGBRegressor\n",
    "from sklearn.metrics import mean_absolute_error, mean_squared_error, r2_score\n",
    "\n",
    "#ignore warning messages to ensure clean outputs\n",
    "import warnings\n",
    "warnings.filterwarnings('ignore')"
   ]
  },
  {
   "cell_type": "code",
   "execution_count": 2,
   "id": "019423ce",
   "metadata": {},
   "outputs": [
    {
     "name": "stdout",
     "output_type": "stream",
     "text": [
      "The data have  1449  rows and  251  columns\n",
      "\n"
     ]
    }
   ],
   "source": [
    "#Loading Data and Displaying Information\n",
    "data= pd.read_csv('E:/Springboard Data Scientist BootCamp/PYTHON/GITHUB/HousePricePrediction/Data/FeatureEngineering.csv')\n",
    "\n",
    "print('The data have ', data.shape[0], ' rows and ', data.shape[1], ' columns\\n')"
   ]
  },
  {
   "cell_type": "code",
   "execution_count": 3,
   "id": "7f28568f",
   "metadata": {
    "scrolled": true
   },
   "outputs": [
    {
     "data": {
      "text/html": [
       "<div>\n",
       "<style scoped>\n",
       "    .dataframe tbody tr th:only-of-type {\n",
       "        vertical-align: middle;\n",
       "    }\n",
       "\n",
       "    .dataframe tbody tr th {\n",
       "        vertical-align: top;\n",
       "    }\n",
       "\n",
       "    .dataframe thead th {\n",
       "        text-align: right;\n",
       "    }\n",
       "</style>\n",
       "<table border=\"1\" class=\"dataframe\">\n",
       "  <thead>\n",
       "    <tr style=\"text-align: right;\">\n",
       "      <th></th>\n",
       "      <th>MSSubClass</th>\n",
       "      <th>LotFrontage</th>\n",
       "      <th>LotArea</th>\n",
       "      <th>OverallQual</th>\n",
       "      <th>YearBuilt</th>\n",
       "      <th>YearRemodAdd</th>\n",
       "      <th>MasVnrArea</th>\n",
       "      <th>BsmtFinSF1</th>\n",
       "      <th>BsmtFinSF2</th>\n",
       "      <th>BsmtUnfSF</th>\n",
       "      <th>...</th>\n",
       "      <th>Fireplaces_1</th>\n",
       "      <th>Fireplaces_2</th>\n",
       "      <th>GarageCars_1</th>\n",
       "      <th>GarageCars_2</th>\n",
       "      <th>GarageCars_3</th>\n",
       "      <th>GarageCars_4</th>\n",
       "      <th>YrSold_2007</th>\n",
       "      <th>YrSold_2008</th>\n",
       "      <th>YrSold_2009</th>\n",
       "      <th>YrSold_2010</th>\n",
       "    </tr>\n",
       "  </thead>\n",
       "  <tbody>\n",
       "    <tr>\n",
       "      <th>0</th>\n",
       "      <td>0.075512</td>\n",
       "      <td>-0.226204</td>\n",
       "      <td>-0.327615</td>\n",
       "      <td>0.652617</td>\n",
       "      <td>1.056113</td>\n",
       "      <td>0.878501</td>\n",
       "      <td>0.559706</td>\n",
       "      <td>0.603282</td>\n",
       "      <td>-0.337121</td>\n",
       "      <td>-0.942296</td>\n",
       "      <td>...</td>\n",
       "      <td>False</td>\n",
       "      <td>False</td>\n",
       "      <td>False</td>\n",
       "      <td>True</td>\n",
       "      <td>False</td>\n",
       "      <td>False</td>\n",
       "      <td>False</td>\n",
       "      <td>True</td>\n",
       "      <td>False</td>\n",
       "      <td>False</td>\n",
       "    </tr>\n",
       "    <tr>\n",
       "      <th>1</th>\n",
       "      <td>-0.870802</td>\n",
       "      <td>0.524413</td>\n",
       "      <td>-0.063767</td>\n",
       "      <td>-0.069799</td>\n",
       "      <td>0.144090</td>\n",
       "      <td>-0.428527</td>\n",
       "      <td>-0.597544</td>\n",
       "      <td>1.223865</td>\n",
       "      <td>-0.337121</td>\n",
       "      <td>-0.638981</td>\n",
       "      <td>...</td>\n",
       "      <td>True</td>\n",
       "      <td>False</td>\n",
       "      <td>False</td>\n",
       "      <td>True</td>\n",
       "      <td>False</td>\n",
       "      <td>False</td>\n",
       "      <td>True</td>\n",
       "      <td>False</td>\n",
       "      <td>False</td>\n",
       "      <td>False</td>\n",
       "    </tr>\n",
       "    <tr>\n",
       "      <th>2</th>\n",
       "      <td>0.075512</td>\n",
       "      <td>-0.076080</td>\n",
       "      <td>0.314799</td>\n",
       "      <td>0.652617</td>\n",
       "      <td>0.988555</td>\n",
       "      <td>0.830093</td>\n",
       "      <td>0.358958</td>\n",
       "      <td>0.101339</td>\n",
       "      <td>-0.337121</td>\n",
       "      <td>-0.299450</td>\n",
       "      <td>...</td>\n",
       "      <td>True</td>\n",
       "      <td>False</td>\n",
       "      <td>False</td>\n",
       "      <td>True</td>\n",
       "      <td>False</td>\n",
       "      <td>False</td>\n",
       "      <td>False</td>\n",
       "      <td>True</td>\n",
       "      <td>False</td>\n",
       "      <td>False</td>\n",
       "    </tr>\n",
       "    <tr>\n",
       "      <th>3</th>\n",
       "      <td>0.312091</td>\n",
       "      <td>-0.476410</td>\n",
       "      <td>-0.075238</td>\n",
       "      <td>0.652617</td>\n",
       "      <td>-1.916407</td>\n",
       "      <td>-0.718977</td>\n",
       "      <td>-0.597544</td>\n",
       "      <td>-0.514680</td>\n",
       "      <td>-0.337121</td>\n",
       "      <td>-0.059514</td>\n",
       "      <td>...</td>\n",
       "      <td>True</td>\n",
       "      <td>False</td>\n",
       "      <td>False</td>\n",
       "      <td>False</td>\n",
       "      <td>True</td>\n",
       "      <td>False</td>\n",
       "      <td>False</td>\n",
       "      <td>False</td>\n",
       "      <td>False</td>\n",
       "      <td>False</td>\n",
       "    </tr>\n",
       "    <tr>\n",
       "      <th>4</th>\n",
       "      <td>0.075512</td>\n",
       "      <td>0.724578</td>\n",
       "      <td>1.005395</td>\n",
       "      <td>1.375034</td>\n",
       "      <td>0.954777</td>\n",
       "      <td>0.733276</td>\n",
       "      <td>1.468973</td>\n",
       "      <td>0.486922</td>\n",
       "      <td>-0.337121</td>\n",
       "      <td>-0.172692</td>\n",
       "      <td>...</td>\n",
       "      <td>True</td>\n",
       "      <td>False</td>\n",
       "      <td>False</td>\n",
       "      <td>False</td>\n",
       "      <td>True</td>\n",
       "      <td>False</td>\n",
       "      <td>False</td>\n",
       "      <td>True</td>\n",
       "      <td>False</td>\n",
       "      <td>False</td>\n",
       "    </tr>\n",
       "  </tbody>\n",
       "</table>\n",
       "<p>5 rows × 251 columns</p>\n",
       "</div>"
      ],
      "text/plain": [
       "   MSSubClass  LotFrontage   LotArea  OverallQual  YearBuilt  YearRemodAdd  \\\n",
       "0    0.075512    -0.226204 -0.327615     0.652617   1.056113      0.878501   \n",
       "1   -0.870802     0.524413 -0.063767    -0.069799   0.144090     -0.428527   \n",
       "2    0.075512    -0.076080  0.314799     0.652617   0.988555      0.830093   \n",
       "3    0.312091    -0.476410 -0.075238     0.652617  -1.916407     -0.718977   \n",
       "4    0.075512     0.724578  1.005395     1.375034   0.954777      0.733276   \n",
       "\n",
       "   MasVnrArea  BsmtFinSF1  BsmtFinSF2  BsmtUnfSF  ...  Fireplaces_1  \\\n",
       "0    0.559706    0.603282   -0.337121  -0.942296  ...         False   \n",
       "1   -0.597544    1.223865   -0.337121  -0.638981  ...          True   \n",
       "2    0.358958    0.101339   -0.337121  -0.299450  ...          True   \n",
       "3   -0.597544   -0.514680   -0.337121  -0.059514  ...          True   \n",
       "4    1.468973    0.486922   -0.337121  -0.172692  ...          True   \n",
       "\n",
       "   Fireplaces_2  GarageCars_1  GarageCars_2  GarageCars_3  GarageCars_4  \\\n",
       "0         False         False          True         False         False   \n",
       "1         False         False          True         False         False   \n",
       "2         False         False          True         False         False   \n",
       "3         False         False         False          True         False   \n",
       "4         False         False         False          True         False   \n",
       "\n",
       "   YrSold_2007  YrSold_2008  YrSold_2009  YrSold_2010  \n",
       "0        False         True        False        False  \n",
       "1         True        False        False        False  \n",
       "2        False         True        False        False  \n",
       "3        False        False        False        False  \n",
       "4        False         True        False        False  \n",
       "\n",
       "[5 rows x 251 columns]"
      ]
     },
     "execution_count": 3,
     "metadata": {},
     "output_type": "execute_result"
    }
   ],
   "source": [
    "data.head()"
   ]
  },
  {
   "cell_type": "code",
   "execution_count": 4,
   "id": "2ee847e0",
   "metadata": {},
   "outputs": [],
   "source": [
    "# Split the data into features (X) and target variable (y)\n",
    "X = data.drop('SalePrice', axis = 1)\n",
    "y = data['SalePrice']"
   ]
  },
  {
   "cell_type": "code",
   "execution_count": 5,
   "id": "bf9c6570",
   "metadata": {},
   "outputs": [],
   "source": [
    "# Split the data into training and testing sets\n",
    "X_train, X_test, y_train, y_test = train_test_split(X, y, test_size=0.2, random_state=42)"
   ]
  },
  {
   "cell_type": "code",
   "execution_count": 6,
   "id": "d98946a8",
   "metadata": {
    "scrolled": true
   },
   "outputs": [
    {
     "name": "stdout",
     "output_type": "stream",
     "text": [
      "X Training data shape: (1159, 250)\n",
      "X Testing data shape: (290, 250)\n"
     ]
    }
   ],
   "source": [
    "# Print shapes of training and testing subsets\n",
    "print(\"X Training data shape:\", X_train.shape)\n",
    "print(\"X Testing data shape:\", X_test.shape)"
   ]
  },
  {
   "cell_type": "code",
   "execution_count": 7,
   "id": "a9f72358",
   "metadata": {},
   "outputs": [
    {
     "name": "stdout",
     "output_type": "stream",
     "text": [
      "y Training data shape: (1159,)\n",
      "y Testing data shape: (290,)\n"
     ]
    }
   ],
   "source": [
    "# Print shapes of training and testing subsets\n",
    "print(\"y Training data shape:\", y_train.shape)\n",
    "print(\"y Testing data shape:\", y_test.shape)"
   ]
  },
  {
   "cell_type": "code",
   "execution_count": 8,
   "id": "9090c4a6",
   "metadata": {},
   "outputs": [],
   "source": [
    "#Standardize features\n",
    "scaler = StandardScaler()\n",
    "X_train_scaled = scaler.fit_transform(X_train)\n",
    "X_test_scaled = scaler.transform(X_test)"
   ]
  },
  {
   "cell_type": "markdown",
   "id": "bfd1fb77",
   "metadata": {},
   "source": [
    "# Modeling"
   ]
  },
  {
   "cell_type": "code",
   "execution_count": 9,
   "id": "7e2d0bab",
   "metadata": {},
   "outputs": [],
   "source": [
    "# Define models\n",
    "models = {\n",
    "    'Linear Regression': LinearRegression(),\n",
    "    'Decision Tree': DecisionTreeRegressor(),\n",
    "    'Random Forest': RandomForestRegressor(),\n",
    "    'Gradient Boosting': GradientBoostingRegressor(),\n",
    "    'KNN': KNeighborsRegressor(),\n",
    "    'SVM': SVR(),\n",
    "    'XGBoost': XGBRegressor()\n",
    "}"
   ]
  },
  {
   "cell_type": "code",
   "execution_count": 10,
   "id": "5136a681",
   "metadata": {},
   "outputs": [],
   "source": [
    "# Model hyperparameters for tuning\n",
    "params = {\n",
    "    'Decision Tree': {'max_depth': [None, 10, 20, 30]},\n",
    "    'Random Forest': {'n_estimators': [100, 200, 300]},\n",
    "    'Gradient Boosting': {'n_estimators': [100, 200, 300], 'learning_rate': [0.05, 0.1, 0.2]},\n",
    "    'KNN': {'n_neighbors': [3, 5, 7]},\n",
    "    'SVM': {'C': [0.1, 1, 10], 'gamma': [0.1, 1, 'scale', 'auto']},\n",
    "    'XGBoost': {'n_estimators': [100, 200, 300], 'learning_rate': [0.05, 0.1, 0.2]}\n",
    "}"
   ]
  },
  {
   "cell_type": "markdown",
   "id": "13f31d76",
   "metadata": {},
   "source": [
    "## Linear Regression"
   ]
  },
  {
   "cell_type": "markdown",
   "id": "f2247993",
   "metadata": {},
   "source": [
    "The Linear Regression model, as currently configured, is not recommended for predicting house prices in this dataset. Further analysis, feature engineering, or alternative modeling approaches may be necessary to build a more effective predictive model."
   ]
  },
  {
   "cell_type": "code",
   "execution_count": 11,
   "id": "94ce3e5d",
   "metadata": {
    "scrolled": true
   },
   "outputs": [
    {
     "data": {
      "text/html": [
       "<style>#sk-container-id-1 {color: black;}#sk-container-id-1 pre{padding: 0;}#sk-container-id-1 div.sk-toggleable {background-color: white;}#sk-container-id-1 label.sk-toggleable__label {cursor: pointer;display: block;width: 100%;margin-bottom: 0;padding: 0.3em;box-sizing: border-box;text-align: center;}#sk-container-id-1 label.sk-toggleable__label-arrow:before {content: \"▸\";float: left;margin-right: 0.25em;color: #696969;}#sk-container-id-1 label.sk-toggleable__label-arrow:hover:before {color: black;}#sk-container-id-1 div.sk-estimator:hover label.sk-toggleable__label-arrow:before {color: black;}#sk-container-id-1 div.sk-toggleable__content {max-height: 0;max-width: 0;overflow: hidden;text-align: left;background-color: #f0f8ff;}#sk-container-id-1 div.sk-toggleable__content pre {margin: 0.2em;color: black;border-radius: 0.25em;background-color: #f0f8ff;}#sk-container-id-1 input.sk-toggleable__control:checked~div.sk-toggleable__content {max-height: 200px;max-width: 100%;overflow: auto;}#sk-container-id-1 input.sk-toggleable__control:checked~label.sk-toggleable__label-arrow:before {content: \"▾\";}#sk-container-id-1 div.sk-estimator input.sk-toggleable__control:checked~label.sk-toggleable__label {background-color: #d4ebff;}#sk-container-id-1 div.sk-label input.sk-toggleable__control:checked~label.sk-toggleable__label {background-color: #d4ebff;}#sk-container-id-1 input.sk-hidden--visually {border: 0;clip: rect(1px 1px 1px 1px);clip: rect(1px, 1px, 1px, 1px);height: 1px;margin: -1px;overflow: hidden;padding: 0;position: absolute;width: 1px;}#sk-container-id-1 div.sk-estimator {font-family: monospace;background-color: #f0f8ff;border: 1px dotted black;border-radius: 0.25em;box-sizing: border-box;margin-bottom: 0.5em;}#sk-container-id-1 div.sk-estimator:hover {background-color: #d4ebff;}#sk-container-id-1 div.sk-parallel-item::after {content: \"\";width: 100%;border-bottom: 1px solid gray;flex-grow: 1;}#sk-container-id-1 div.sk-label:hover label.sk-toggleable__label {background-color: #d4ebff;}#sk-container-id-1 div.sk-serial::before {content: \"\";position: absolute;border-left: 1px solid gray;box-sizing: border-box;top: 0;bottom: 0;left: 50%;z-index: 0;}#sk-container-id-1 div.sk-serial {display: flex;flex-direction: column;align-items: center;background-color: white;padding-right: 0.2em;padding-left: 0.2em;position: relative;}#sk-container-id-1 div.sk-item {position: relative;z-index: 1;}#sk-container-id-1 div.sk-parallel {display: flex;align-items: stretch;justify-content: center;background-color: white;position: relative;}#sk-container-id-1 div.sk-item::before, #sk-container-id-1 div.sk-parallel-item::before {content: \"\";position: absolute;border-left: 1px solid gray;box-sizing: border-box;top: 0;bottom: 0;left: 50%;z-index: -1;}#sk-container-id-1 div.sk-parallel-item {display: flex;flex-direction: column;z-index: 1;position: relative;background-color: white;}#sk-container-id-1 div.sk-parallel-item:first-child::after {align-self: flex-end;width: 50%;}#sk-container-id-1 div.sk-parallel-item:last-child::after {align-self: flex-start;width: 50%;}#sk-container-id-1 div.sk-parallel-item:only-child::after {width: 0;}#sk-container-id-1 div.sk-dashed-wrapped {border: 1px dashed gray;margin: 0 0.4em 0.5em 0.4em;box-sizing: border-box;padding-bottom: 0.4em;background-color: white;}#sk-container-id-1 div.sk-label label {font-family: monospace;font-weight: bold;display: inline-block;line-height: 1.2em;}#sk-container-id-1 div.sk-label-container {text-align: center;}#sk-container-id-1 div.sk-container {/* jupyter's `normalize.less` sets `[hidden] { display: none; }` but bootstrap.min.css set `[hidden] { display: none !important; }` so we also need the `!important` here to be able to override the default hidden behavior on the sphinx rendered scikit-learn.org. See: https://github.com/scikit-learn/scikit-learn/issues/21755 */display: inline-block !important;position: relative;}#sk-container-id-1 div.sk-text-repr-fallback {display: none;}</style><div id=\"sk-container-id-1\" class=\"sk-top-container\"><div class=\"sk-text-repr-fallback\"><pre>LinearRegression()</pre><b>In a Jupyter environment, please rerun this cell to show the HTML representation or trust the notebook. <br />On GitHub, the HTML representation is unable to render, please try loading this page with nbviewer.org.</b></div><div class=\"sk-container\" hidden><div class=\"sk-item\"><div class=\"sk-estimator sk-toggleable\"><input class=\"sk-toggleable__control sk-hidden--visually\" id=\"sk-estimator-id-1\" type=\"checkbox\" checked><label for=\"sk-estimator-id-1\" class=\"sk-toggleable__label sk-toggleable__label-arrow\">LinearRegression</label><div class=\"sk-toggleable__content\"><pre>LinearRegression()</pre></div></div></div></div></div>"
      ],
      "text/plain": [
       "LinearRegression()"
      ]
     },
     "execution_count": 11,
     "metadata": {},
     "output_type": "execute_result"
    }
   ],
   "source": [
    "# Train and evaluate Linear Regression\n",
    "lin_reg = LinearRegression()\n",
    "lin_reg.fit(X_train_scaled, y_train)"
   ]
  },
  {
   "cell_type": "code",
   "execution_count": 12,
   "id": "09e77f9f",
   "metadata": {},
   "outputs": [],
   "source": [
    "# Cross-validation for Linear Regression\n",
    "cv_scores_lin_reg = cross_val_score(lin_reg, X_train_scaled, y_train, cv = 5, scoring = 'neg_mean_squared_error')\n",
    "cv_rmse_lin_reg = np.sqrt(-cv_scores_lin_reg)\n",
    "mean_cv_rmse_lin_reg = np.mean(cv_rmse_lin_reg)"
   ]
  },
  {
   "cell_type": "code",
   "execution_count": 13,
   "id": "6c7ea946",
   "metadata": {},
   "outputs": [],
   "source": [
    "# Predictions for Linear Regression\n",
    "y_pred_lin_reg = lin_reg.predict(X_test_scaled)"
   ]
  },
  {
   "cell_type": "code",
   "execution_count": 14,
   "id": "134ab5d6",
   "metadata": {},
   "outputs": [],
   "source": [
    "# Evaluation for Linear Regression\n",
    "mae_lin_reg = mean_absolute_error(y_test, y_pred_lin_reg)\n",
    "mse_lin_reg = mean_squared_error(y_test, y_pred_lin_reg)\n",
    "rmse_lin_reg = np.sqrt(mse_lin_reg)\n",
    "r2_lin_reg = r2_score(y_test, y_pred_lin_reg)"
   ]
  },
  {
   "cell_type": "code",
   "execution_count": 15,
   "id": "6c2ad14a",
   "metadata": {},
   "outputs": [
    {
     "name": "stdout",
     "output_type": "stream",
     "text": [
      "Linear Regression Evaluation Results:\n",
      "\n",
      "CV RMSE: 1704045607.6426163\n",
      "MAE: 1704045607.6426163\n",
      "MSE: 3.9217854905817956e+20\n",
      "RMSE: 19803498404.528923\n",
      "R2SCORE: -4.787909066150357e+20\n"
     ]
    }
   ],
   "source": [
    "print('Linear Regression Evaluation Results:\\n')\n",
    "print(\"CV RMSE:\", mae_lin_reg)\n",
    "print(\"MAE:\", mae_lin_reg)\n",
    "print(\"MSE:\", mse_lin_reg)\n",
    "print(\"RMSE:\", rmse_lin_reg)\n",
    "print(\"R2SCORE:\", r2_lin_reg)"
   ]
  },
  {
   "cell_type": "markdown",
   "id": "ba24709d",
   "metadata": {},
   "source": [
    "##### The model exhibits very high errors, as indicated by the extremely large values for CV RMSE, MAE, MSE, and RMSE. These high error values suggest that the model's predictions deviate significantly from the actual target values.  A negative R2 score suggests that the model performs worse than a simple horizontal line, indicating that it fails to capture the variance in the data and may even perform worse than just using the mean value as predictions. The combination of high errors and a negative R2 score could be symptomatic of overfitting. Overfitting occurs when the model captures noise in the training data rather than the underlying pattern. As a result, the model performs poorly on unseen data."
   ]
  },
  {
   "cell_type": "markdown",
   "id": "93cd53e0",
   "metadata": {},
   "source": [
    "## Decision Tree\n",
    "\n",
    "the Decision Tree model appears to be a strong candidate for predicting house prices in this dataset. It demonstrates low errors, high explanatory power, and good generalization capabilities. Therefore, it is recommended for further consideration and potentially deployment in real-world applications. However, it's essential to keep in mind that Decision Trees may prone to overfitting on complex datasets, and further validation on unseen data is advisable before final deployment."
   ]
  },
  {
   "cell_type": "code",
   "execution_count": 16,
   "id": "e3f65498",
   "metadata": {},
   "outputs": [],
   "source": [
    "# Train and evaluate Decision Tree\n",
    "dt_reg = DecisionTreeRegressor()\n",
    "grid_search_dt_reg = GridSearchCV(dt_reg, params['Decision Tree'], cv=5, scoring='neg_mean_squared_error')\n",
    "grid_search_dt_reg.fit(X_train_scaled, y_train)\n",
    "dt_reg_best = grid_search_dt_reg.best_estimator_"
   ]
  },
  {
   "cell_type": "code",
   "execution_count": 17,
   "id": "624f5dec",
   "metadata": {},
   "outputs": [],
   "source": [
    "# Cross-validation for Decision Tree\n",
    "cv_scores_dt_reg = cross_val_score(dt_reg_best, X_train_scaled, y_train, cv = 5, scoring = 'neg_mean_squared_error')\n",
    "cv_rmse_dt_reg = np.sqrt(-cv_scores_dt_reg)\n",
    "mean_cv_rmse_dt_reg = np.mean(cv_rmse_dt_reg)"
   ]
  },
  {
   "cell_type": "code",
   "execution_count": 18,
   "id": "638881fe",
   "metadata": {},
   "outputs": [],
   "source": [
    "# Prediction for Decision Tree\n",
    "y_pred_dt_reg = dt_reg_best.predict(X_test_scaled)"
   ]
  },
  {
   "cell_type": "code",
   "execution_count": 19,
   "id": "08d30a82",
   "metadata": {
    "scrolled": true
   },
   "outputs": [],
   "source": [
    "# Evaluation for Decision Tree\n",
    "mae_dt_reg = mean_absolute_error(y_test, y_pred_dt_reg)\n",
    "mse_dt_reg = mean_squared_error(y_test, y_pred_dt_reg)\n",
    "rmse_dt_reg = np.sqrt(mse_dt_reg)\n",
    "r2_dt_reg = r2_score(y_test, y_pred_dt_reg)"
   ]
  },
  {
   "cell_type": "code",
   "execution_count": 20,
   "id": "eb995cd0",
   "metadata": {},
   "outputs": [
    {
     "name": "stdout",
     "output_type": "stream",
     "text": [
      "Decision Tree Evaluation Results:\n",
      "\n",
      "CV RMSE:  0.4930262016312928\n",
      "MAE:  0.2794311887811721\n",
      "MSE:  0.15144450679772822\n",
      "RMSE:  0.389158716718164\n",
      "R2 SCORE:  0.8151090800716019\n"
     ]
    }
   ],
   "source": [
    "print('Decision Tree Evaluation Results:\\n')\n",
    "print('CV RMSE: ', mean_cv_rmse_dt_reg)\n",
    "print('MAE: ', mae_dt_reg)\n",
    "print('MSE: ', mse_dt_reg)\n",
    "print('RMSE: ', rmse_dt_reg)\n",
    "print('R2 SCORE: ', r2_dt_reg)"
   ]
  },
  {
   "cell_type": "markdown",
   "id": "7de92119",
   "metadata": {},
   "source": [
    "##### The model demonstrates relatively low errors across all metrics, with CV RMSE, MAE, MSE, and RMSE values close to 0. This suggests that the model's predictions align well with the actual target values. The high R-squared (R2) score of approximately 0.83 indicates that the model explains a significant proportion of the variance in the target variable. This suggests that the Decision Tree model captures the underlying patterns in the data quite effectively."
   ]
  },
  {
   "cell_type": "markdown",
   "id": "13a09727",
   "metadata": {},
   "source": [
    "## Random Forest\n",
    "\n",
    "The Random Forest model appears to be highly effective for predicting house prices in this dataset. It demonstrates low errors, high explanatory power, and good generalization capabilities. Therefore, it is recommended for further consideration and potentially deployment in real-world applications. However, it's essential to keep in mind that Random Forest models can be computationally expensive and may require tuning for optimal performance on larger datasets. Additionally, monitoring for potential overfitting is advisable during model development and deployment."
   ]
  },
  {
   "cell_type": "code",
   "execution_count": 21,
   "id": "cf6e7045",
   "metadata": {},
   "outputs": [],
   "source": [
    "# Train and evaluate Random Forest\n",
    "rf_reg = RandomForestRegressor()\n",
    "grid_search_rf_reg = GridSearchCV(rf_reg, params['Random Forest'], cv=5, scoring='neg_mean_squared_error')\n",
    "grid_search_rf_reg.fit(X_train_scaled, y_train)\n",
    "rf_reg_best = grid_search_rf_reg.best_estimator_"
   ]
  },
  {
   "cell_type": "code",
   "execution_count": 22,
   "id": "d6c34c0d",
   "metadata": {},
   "outputs": [],
   "source": [
    "# Cross-validation for Random Forest\n",
    "cv_scores_rf_reg = cross_val_score(rf_reg_best, X_train_scaled, y_train, cv=5, scoring='neg_mean_squared_error')\n",
    "cv_rmse_rf_reg = np.sqrt(-cv_scores_rf_reg)\n",
    "mean_cv_rmse_rf_reg = np.mean(cv_rmse_rf_reg)"
   ]
  },
  {
   "cell_type": "code",
   "execution_count": 23,
   "id": "b06524b4",
   "metadata": {},
   "outputs": [],
   "source": [
    "# Predictions for Random Forest\n",
    "y_pred_rf_reg = rf_reg_best.predict(X_test_scaled)"
   ]
  },
  {
   "cell_type": "code",
   "execution_count": 24,
   "id": "b737de44",
   "metadata": {},
   "outputs": [],
   "source": [
    "# Evaluation for Random Forest\n",
    "mae_rf_reg = mean_absolute_error(y_test, y_pred_rf_reg)\n",
    "mse_rf_reg = mean_squared_error(y_test, y_pred_rf_reg)\n",
    "rmse_rf_reg = np.sqrt(mse_rf_reg)\n",
    "r2_rf_reg = r2_score(y_test, y_pred_rf_reg)"
   ]
  },
  {
   "cell_type": "code",
   "execution_count": 25,
   "id": "75a80f25",
   "metadata": {
    "scrolled": true
   },
   "outputs": [
    {
     "name": "stdout",
     "output_type": "stream",
     "text": [
      "Random Forest Evaluation Results:\n",
      "\n",
      "CV RMSE:  0.37385260772615425\n",
      "MAE:  0.1875176022936716\n",
      "MSE:  0.08235276744569535\n",
      "RMSE:  0.2869717188952517\n",
      "R2 SCORE:  0.8994596816111625\n"
     ]
    }
   ],
   "source": [
    "print('Random Forest Evaluation Results:\\n')\n",
    "print('CV RMSE: ', mean_cv_rmse_rf_reg)\n",
    "print('MAE: ', mae_rf_reg)\n",
    "print('MSE: ', mse_rf_reg)\n",
    "print('RMSE: ', rmse_rf_reg)\n",
    "print('R2 SCORE: ', r2_rf_reg)"
   ]
  },
  {
   "cell_type": "markdown",
   "id": "27006244",
   "metadata": {},
   "source": [
    "##### The model demonstrates low errors across all metrics, with CV RMSE, MAE, MSE, and RMSE values relatively close to 0. This indicates that the model's predictions closely match the actual target values. The high R-squared (R2) score of approximately 0.90 indicates that the model explains a significant proportion of the variance in the target variable. This suggests that the Random Forest model captures the underlying patterns in the data quite effectively."
   ]
  },
  {
   "cell_type": "markdown",
   "id": "623df15b",
   "metadata": {},
   "source": [
    "## Gradient Boosting\n",
    "\n",
    "The Gradient Boosting model demonstrates strong performance for predicting house prices in this dataset. It exhibits low errors, high explanatory power, and good generalization capabilities. Therefore, it is recommended for further consideration and potential deployment in real-world applications. However, as with any machine learning model, it's important to monitor for potential overfitting and to tune hyperparameters carefully to optimize performance on unseen data."
   ]
  },
  {
   "cell_type": "code",
   "execution_count": 26,
   "id": "8d3826a8",
   "metadata": {},
   "outputs": [],
   "source": [
    "# Train and evaluate Gradient Boosting\n",
    "gb_reg = GradientBoostingRegressor()\n",
    "grid_search_gb_reg = GridSearchCV(gb_reg, params['Gradient Boosting'], cv=5, scoring='neg_mean_squared_error')\n",
    "grid_search_gb_reg.fit(X_train_scaled, y_train)\n",
    "gb_reg_best = grid_search_gb_reg.best_estimator_"
   ]
  },
  {
   "cell_type": "code",
   "execution_count": 27,
   "id": "6c3f4425",
   "metadata": {},
   "outputs": [],
   "source": [
    "# Cross-validation for Gradient Boosting\n",
    "cv_scores_gb_reg = cross_val_score(gb_reg_best, X_train_scaled, y_train, cv=5, scoring='neg_mean_squared_error')\n",
    "cv_rmse_gb_reg = np.sqrt(-cv_scores_gb_reg)\n",
    "mean_cv_rmse_gb_reg = np.mean(cv_rmse_gb_reg)"
   ]
  },
  {
   "cell_type": "code",
   "execution_count": 28,
   "id": "4b712e41",
   "metadata": {},
   "outputs": [],
   "source": [
    "# Predictions for Gradient Boosting\n",
    "y_pred_gb_reg = gb_reg_best.predict(X_test_scaled)"
   ]
  },
  {
   "cell_type": "code",
   "execution_count": 29,
   "id": "a355aa3d",
   "metadata": {},
   "outputs": [],
   "source": [
    "# Evaluation for Gradient Boosting\n",
    "mae_gb_reg = mean_absolute_error(y_test, y_pred_gb_reg)\n",
    "mse_gb_reg = mean_squared_error(y_test, y_pred_gb_reg)\n",
    "rmse_gb_reg = np.sqrt(mse_gb_reg)\n",
    "r2_gb_reg = r2_score(y_test, y_pred_gb_reg)"
   ]
  },
  {
   "cell_type": "code",
   "execution_count": 30,
   "id": "d0f4a34d",
   "metadata": {},
   "outputs": [
    {
     "name": "stdout",
     "output_type": "stream",
     "text": [
      "Gradient Boosting Evaluation Results:\n",
      "\n",
      "CV RMSE:  0.32451601664871965\n",
      "MAE:  0.18242268429065023\n",
      "MSE:  0.07902231832262814\n",
      "RMSE:  0.28110908616163255\n",
      "R2 SCORE:  0.9035256580876885\n"
     ]
    }
   ],
   "source": [
    "print('Gradient Boosting Evaluation Results:\\n')\n",
    "print('CV RMSE: ', mean_cv_rmse_gb_reg)\n",
    "print('MAE: ', mae_gb_reg)\n",
    "print('MSE: ', mse_gb_reg)\n",
    "print('RMSE: ', rmse_gb_reg)\n",
    "print('R2 SCORE: ', r2_gb_reg)"
   ]
  },
  {
   "cell_type": "markdown",
   "id": "3cf92ce2",
   "metadata": {},
   "source": [
    "##### The model exhibits low errors across all metrics, with CV RMSE, MAE, MSE, and RMSE values relatively close to 0. This indicates that the model's predictions closely align with the actual target values. The high R-squared (R2) score of approximately 0.91 indicates that the model explains a significant proportion of the variance in the target variable. This suggests that the Gradient Boosting model captures the underlying patterns in the data effectively."
   ]
  },
  {
   "cell_type": "markdown",
   "id": "9b458eb8",
   "metadata": {},
   "source": [
    "## KNN (K-Nearest Neighbors)\n",
    "\n",
    "The KNN model shows decent performance for predicting house prices in this dataset, with moderate errors and explanatory power. However, its performance metrics are not as strong as those of the Random Forest or Gradient Boosting models. Therefore, while the KNN model may still be considered for certain scenarios, other models such as Random Forest or Gradient Boosting might be preferred choices for this specific task based on their superior performance metrics. Further analysis and model refinement may be necessary to improve the KNN model's performance."
   ]
  },
  {
   "cell_type": "code",
   "execution_count": 31,
   "id": "3b65a103",
   "metadata": {},
   "outputs": [],
   "source": [
    "# Train and evaluate KNN\n",
    "knn_reg = KNeighborsRegressor()\n",
    "grid_search_knn_reg = GridSearchCV(knn_reg, params['KNN'], cv=5, scoring='neg_mean_squared_error')\n",
    "grid_search_knn_reg.fit(X_train_scaled, y_train)\n",
    "knn_reg_best = grid_search_knn_reg.best_estimator_"
   ]
  },
  {
   "cell_type": "code",
   "execution_count": 32,
   "id": "4c6aa8b3",
   "metadata": {},
   "outputs": [],
   "source": [
    "# Cross-validation for KNN\n",
    "cv_scores_knn_reg = cross_val_score(knn_reg_best, X_train_scaled, y_train, cv=5, scoring='neg_mean_squared_error')\n",
    "cv_rmse_knn_reg = np.sqrt(-cv_scores_knn_reg)\n",
    "mean_cv_rmse_knn_reg = np.mean(cv_rmse_knn_reg)"
   ]
  },
  {
   "cell_type": "code",
   "execution_count": 33,
   "id": "a2188cc6",
   "metadata": {},
   "outputs": [],
   "source": [
    "# Predictions for KNN\n",
    "y_pred_knn_reg = knn_reg_best.predict(X_test_scaled)"
   ]
  },
  {
   "cell_type": "code",
   "execution_count": 34,
   "id": "092abdee",
   "metadata": {},
   "outputs": [],
   "source": [
    "# Evaluation for KNN\n",
    "mae_knn_reg = mean_absolute_error(y_test, y_pred_knn_reg)\n",
    "mse_knn_reg = mean_squared_error(y_test, y_pred_knn_reg)\n",
    "rmse_knn_reg = np.sqrt(mse_knn_reg)\n",
    "r2_knn_reg = r2_score(y_test, y_pred_knn_reg)"
   ]
  },
  {
   "cell_type": "code",
   "execution_count": 35,
   "id": "96937161",
   "metadata": {},
   "outputs": [
    {
     "name": "stdout",
     "output_type": "stream",
     "text": [
      "KNN (K-Nearest Neighbors) Evaluation Results:\n",
      "\n",
      "CV RMSE:  0.49668601931620915\n",
      "MAE:  0.26843486726447513\n",
      "MSE:  0.16518234470651036\n",
      "RMSE:  0.40642630907276456\n",
      "R2 SCORE:  0.7983372502938839\n"
     ]
    }
   ],
   "source": [
    "print('KNN (K-Nearest Neighbors) Evaluation Results:\\n')\n",
    "print('CV RMSE: ', mean_cv_rmse_knn_reg)\n",
    "print('MAE: ', mae_knn_reg)\n",
    "print('MSE: ', mse_knn_reg)\n",
    "print('RMSE: ', rmse_knn_reg)\n",
    "print('R2 SCORE: ', r2_knn_reg)"
   ]
  },
  {
   "cell_type": "markdown",
   "id": "739e7375",
   "metadata": {},
   "source": [
    "##### The model demonstrates moderate errors across all metrics, with CV RMSE, MAE, MSE, and RMSE values indicating some deviation between predicted and actual values. The R-squared (R2) score of approximately 0.80 indicates that the model explains a considerable proportion of the variance in the target variable. However, it is lower compared to other models evaluated."
   ]
  },
  {
   "cell_type": "markdown",
   "id": "ce00d984",
   "metadata": {},
   "source": [
    "## SVM (Support Vector Machines)\n",
    "\n",
    "The SVM model shows moderate performance for predicting house prices in this dataset, with errors and explanatory power falling between those of the KNN and Random Forest/Gradient Boosting models. While not the top performer, SVM can still be a viable option, especially if interpretability or computational efficiency is a priority. "
   ]
  },
  {
   "cell_type": "code",
   "execution_count": 36,
   "id": "2b7f4e61",
   "metadata": {},
   "outputs": [],
   "source": [
    "# Train and evaluate SVM\n",
    "svm_reg = SVR()\n",
    "grid_search_svm_reg = GridSearchCV(svm_reg, params['SVM'], cv=5, scoring='neg_mean_squared_error')\n",
    "grid_search_svm_reg.fit(X_train_scaled, y_train)\n",
    "svm_reg_best = grid_search_svm_reg.best_estimator_"
   ]
  },
  {
   "cell_type": "code",
   "execution_count": 37,
   "id": "5f60987b",
   "metadata": {},
   "outputs": [],
   "source": [
    "# Cross-validation for SVM\n",
    "cv_scores_svm_reg = cross_val_score(svm_reg_best, X_train_scaled, y_train, cv=5, scoring='neg_mean_squared_error')\n",
    "cv_rmse_svm_reg = np.sqrt(-cv_scores_svm_reg)\n",
    "mean_cv_rmse_svm_reg = np.mean(cv_rmse_svm_reg)"
   ]
  },
  {
   "cell_type": "code",
   "execution_count": 38,
   "id": "534b82e8",
   "metadata": {},
   "outputs": [],
   "source": [
    "# Predictions for SVM\n",
    "y_pred_svm_reg = svm_reg_best.predict(X_test_scaled)"
   ]
  },
  {
   "cell_type": "code",
   "execution_count": 39,
   "id": "30b1e300",
   "metadata": {},
   "outputs": [],
   "source": [
    "# Evaluation for SVM\n",
    "mae_svm_reg = mean_absolute_error(y_test, y_pred_svm_reg)\n",
    "mse_svm_reg = mean_squared_error(y_test, y_pred_svm_reg)\n",
    "rmse_svm_reg = np.sqrt(mse_svm_reg)\n",
    "r2_svm_reg = r2_score(y_test, y_pred_svm_reg)"
   ]
  },
  {
   "cell_type": "code",
   "execution_count": 40,
   "id": "17e5f84c",
   "metadata": {},
   "outputs": [
    {
     "name": "stdout",
     "output_type": "stream",
     "text": [
      "SVM (Support Vector Machines) Evaluation Results:\n",
      "\n",
      "CV RMSE:  0.4483752905304591\n",
      "MAE:  0.23525008882799145\n",
      "MSE:  0.13193422053790535\n",
      "RMSE:  0.36322750520562913\n",
      "R2 SCORE:  0.8389281993709434\n"
     ]
    }
   ],
   "source": [
    "print('SVM (Support Vector Machines) Evaluation Results:\\n')\n",
    "print('CV RMSE: ', mean_cv_rmse_svm_reg)\n",
    "print('MAE: ', mae_svm_reg)\n",
    "print('MSE: ', mse_svm_reg)\n",
    "print('RMSE: ', rmse_svm_reg)\n",
    "print('R2 SCORE: ', r2_svm_reg)"
   ]
  },
  {
   "cell_type": "markdown",
   "id": "a5c58ae8",
   "metadata": {},
   "source": [
    "##### The model exhibits moderate errors across all metrics, with CV RMSE, MAE, MSE, and RMSE values indicating some level of deviation between predicted and actual values. The R-squared (R2) score of approximately 0.84 indicates that the model explains a considerable proportion of the variance in the target variable. While not as high as some other models, it still demonstrates reasonable explanatory power."
   ]
  },
  {
   "cell_type": "markdown",
   "id": "a630b28b",
   "metadata": {},
   "source": [
    "## XGBoost (eXtreme Gradient Boosting)\n",
    "\n",
    "The XGBoost model demonstrates strong performance for predicting house prices in this dataset, with low errors and high explanatory power. It outperforms many other models, including Random Forest, Gradient Boosting, KNN, and SVM, based on its superior performance metrics. Therefore, XGBoost is highly recommended for further consideration and potential deployment in real-world applications. Its robustness, interpretability, and ability to handle complex datasets make it a preferred choice for various machine learning tasks."
   ]
  },
  {
   "cell_type": "code",
   "execution_count": 41,
   "id": "91738874",
   "metadata": {},
   "outputs": [],
   "source": [
    "# Train and evaluate XGBoost\n",
    "xgb_reg = XGBRegressor()\n",
    "grid_search_xgb_reg = GridSearchCV(xgb_reg, params['XGBoost'], cv=5, scoring='neg_mean_squared_error')\n",
    "grid_search_xgb_reg.fit(X_train_scaled, y_train)\n",
    "xgb_reg_best = grid_search_xgb_reg.best_estimator_"
   ]
  },
  {
   "cell_type": "code",
   "execution_count": 42,
   "id": "3071a23c",
   "metadata": {},
   "outputs": [],
   "source": [
    "# Cross-validation for XGBoost\n",
    "cv_scores_xgb_reg = cross_val_score(xgb_reg_best, X_train_scaled, y_train, cv=5, scoring='neg_mean_squared_error')\n",
    "cv_rmse_xgb_reg = np.sqrt(-cv_scores_xgb_reg)\n",
    "mean_cv_rmse_xgb_reg = np.mean(cv_rmse_xgb_reg)"
   ]
  },
  {
   "cell_type": "code",
   "execution_count": 43,
   "id": "d6a157f7",
   "metadata": {},
   "outputs": [],
   "source": [
    "# Predictions for XGBoost\n",
    "y_pred_xgb_reg = xgb_reg_best.predict(X_test_scaled)"
   ]
  },
  {
   "cell_type": "code",
   "execution_count": 44,
   "id": "f00c9cab",
   "metadata": {},
   "outputs": [],
   "source": [
    "# Evaluation for XGBoost\n",
    "mae_xgb_reg = mean_absolute_error(y_test, y_pred_xgb_reg)\n",
    "mse_xgb_reg = mean_squared_error(y_test, y_pred_xgb_reg)\n",
    "rmse_xgb_reg = np.sqrt(mse_xgb_reg)\n",
    "r2_xgb_reg = r2_score(y_test, y_pred_xgb_reg)"
   ]
  },
  {
   "cell_type": "code",
   "execution_count": 45,
   "id": "1f0232b9",
   "metadata": {},
   "outputs": [
    {
     "name": "stdout",
     "output_type": "stream",
     "text": [
      "XGBoost (eXtreme Gradient Boosting) Evaluation Results:\n",
      "\n",
      "CV RMSE:  0.3559607388261276\n",
      "MAE:  0.17896590050184366\n",
      "MSE:  0.07358394764281924\n",
      "RMSE:  0.2712636128249037\n",
      "R2 SCORE:  0.9101650891186499\n"
     ]
    }
   ],
   "source": [
    "print('XGBoost (eXtreme Gradient Boosting) Evaluation Results:\\n')\n",
    "print('CV RMSE: ', mean_cv_rmse_xgb_reg)\n",
    "print('MAE: ', mae_xgb_reg)\n",
    "print('MSE: ', mse_xgb_reg)\n",
    "print('RMSE: ', rmse_xgb_reg)\n",
    "print('R2 SCORE: ', r2_xgb_reg)"
   ]
  },
  {
   "cell_type": "markdown",
   "id": "3b9a4215",
   "metadata": {},
   "source": [
    "##### The model demonstrates low errors across all metrics, with CV RMSE, MAE, MSE, and RMSE values indicating minimal deviation between predicted and actual values. The R-squared (R2) score of approximately 0.91 indicates that the model explains a significant proportion of the variance in the target variable. This suggests that the XGBoost model captures the underlying patterns in the data very effectively."
   ]
  },
  {
   "cell_type": "code",
   "execution_count": 46,
   "id": "15e55dcd",
   "metadata": {},
   "outputs": [],
   "source": [
    "# Evaluation metrics\n",
    "eval_metrics = {\n",
    "    #'Linear Regression': {'CV RMSE': mean_cv_rmse_lin_reg, 'MAE': mae_lin_reg, 'MSE': mse_lin_reg, 'RMSE': rmse_lin_reg, 'R2': r2_lin_reg},\n",
    "    'Decision Tree': {'CV RMSE': mean_cv_rmse_dt_reg, 'MAE': mae_dt_reg, 'MSE': mse_dt_reg, 'RMSE': rmse_dt_reg, 'R2': r2_dt_reg},\n",
    "    'Random Forest': {'CV RMSE': mean_cv_rmse_rf_reg, 'MAE': mae_rf_reg, 'MSE': mse_rf_reg, 'RMSE': rmse_rf_reg, 'R2': r2_rf_reg},\n",
    "    'Gradient Boosting': {'CV RMSE': mean_cv_rmse_gb_reg, 'MAE': mae_gb_reg, 'MSE': mse_gb_reg, 'RMSE': rmse_gb_reg, 'R2': r2_gb_reg},\n",
    "    'KNN': {'CV RMSE': mean_cv_rmse_knn_reg, 'MAE': mae_knn_reg, 'MSE': mse_knn_reg, 'RMSE': rmse_knn_reg, 'R2': r2_knn_reg},\n",
    "    'SVM': {'CV RMSE': mean_cv_rmse_svm_reg, 'MAE': mae_svm_reg, 'MSE': mse_svm_reg, 'RMSE': rmse_svm_reg, 'R2': r2_svm_reg},\n",
    "    'XGBoost': {'CV RMSE': mean_cv_rmse_xgb_reg, 'MAE': mae_xgb_reg, 'MSE': mse_xgb_reg, 'RMSE': rmse_xgb_reg, 'R2': r2_xgb_reg}\n",
    "}"
   ]
  },
  {
   "cell_type": "code",
   "execution_count": 47,
   "id": "fd05a0fd",
   "metadata": {},
   "outputs": [],
   "source": [
    "# Convert evaluation metrics to DataFrame for plotting\n",
    "df_eval_metrics = pd.DataFrame.from_dict(eval_metrics, orient='index')"
   ]
  },
  {
   "cell_type": "code",
   "execution_count": 48,
   "id": "39b81039",
   "metadata": {},
   "outputs": [
    {
     "data": {
      "image/png": "[encoded data removed]",
      "text/plain": [
       "<Figure size 1200x600 with 1 Axes>"
      ]
     },
     "metadata": {},
     "output_type": "display_data"
    }
   ],
   "source": [
    "# Plotting\n",
    "plt.figure(figsize=(12, 6))\n",
    "df_eval_metrics['CV RMSE'].sort_values().plot(kind='bar', alpha=0.7)\n",
    "plt.title('Cross-Validation RMSE Comparison')\n",
    "plt.xlabel('Model')\n",
    "plt.ylabel('CV RMSE')\n",
    "plt.xticks(rotation=45)\n",
    "plt.tight_layout()\n",
    "plt.show()"
   ]
  },
  {
   "cell_type": "code",
   "execution_count": 49,
   "id": "d17082ee",
   "metadata": {},
   "outputs": [
    {
     "name": "stdout",
     "output_type": "stream",
     "text": [
      "Best Model: Gradient Boosting\n"
     ]
    }
   ],
   "source": [
    "# Identify best model\n",
    "best_model_name = df_eval_metrics['CV RMSE'].idxmin()\n",
    "print(f'Best Model: {best_model_name}')"
   ]
  },
  {
   "cell_type": "markdown",
   "id": "99a28043",
   "metadata": {},
   "source": [
    "## Conclusion\n",
    "\n",
    "##### Linear Regression: \n",
    "The Linear Regression model performed very poorly, exhibiting extremely high errors and a negative R2 score. It is not suitable for predicting house prices in this dataset due to its poor performance.\n",
    "\n",
    "##### Decision Tree, Random Forest, Gradient Boosting, KNN, SVM, XGBoost: \n",
    "These models demonstrated varying degrees of performance in predicting house prices.\n",
    "\n",
    "Decision Tree: Moderate performance with moderate errors and R2 score.\n",
    "\n",
    "Random Forest: Good performance with low errors and a high R2 score.\n",
    "\n",
    "Gradient Boosting: Strong performance with low errors and a high R2 score.\n",
    "\n",
    "KNN: Moderate performance with moderate errors and R2 score.\n",
    "\n",
    "SVM: Moderate performance with moderate errors and R2 score.\n",
    "\n",
    "XGBoost: Excellent performance with low errors and a high R2 score, outperforming other models.\n",
    "\n",
    "Based on the evaluation results, actions taken, and comparison of models, the Gradient Boosting and XGBoost models stand out as the top performers. Both models demonstrated strong performance, with low errors and high R2 scores, indicating their effectiveness in predicting house prices in this dataset. However, XGBoost slightly outperformed Gradient Boosting in terms of cross-validation RMSE. Therefore, the XGBoost model is recommended as the best model for predicting house prices in this scenario. Further optimization and fine-tuning of hyperparameters could potentially improve the model's performance even further."
   ]
  }
 ],
 "metadata": {
  "kernelspec": {
   "display_name": "Python 3 (ipykernel)",
   "language": "python",
   "name": "python3"
  },
  "language_info": {
   "codemirror_mode": {
    "name": "ipython",
    "version": 3
   },
   "file_extension": ".py",
   "mimetype": "text/x-python",
   "name": "python",
   "nbconvert_exporter": "python",
   "pygments_lexer": "ipython3",
   "version": "3.11.7"
  }
 },
 "nbformat": 4,
 "nbformat_minor": 5
}
